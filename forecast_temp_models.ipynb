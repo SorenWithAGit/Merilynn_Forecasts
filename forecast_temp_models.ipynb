{
 "cells": [
  {
   "cell_type": "code",
   "execution_count": 2,
   "id": "53384ea8-1f61-4cc2-a476-bda214012f31",
   "metadata": {
    "tags": []
   },
   "outputs": [],
   "source": [
    "from netCDF4 import Dataset\n",
    "import numpy as np\n",
    "import pandas as pd\n",
    "import datetime\n",
    "from dateutil.relativedelta import relativedelta"
   ]
  },
  {
   "cell_type": "code",
   "execution_count": 9,
   "id": "22ae2633-46a6-4e1c-9919-a42aefe59e88",
   "metadata": {
    "tags": []
   },
   "outputs": [],
   "source": [
    "class tempC_NETCDF4:\n",
    "    pathname = \"http://thredds.northwestknowledge.net:8080/thredds/dodsC/NWCSC_INTEGRATED_SCENARIOS_ALL_CLIMATE/bcsd-nmme/rawForecasts/nmme_hindcast_tmean.nc\"\n",
    "    lat_target=31.105\n",
    "    lon_target=-97.35\n",
    "    time_num=504\n",
    "    time_index=range(0,time_num,1)\n",
    "    filehandle=Dataset(pathname,'r',format=\"NETCDF4\")\n",
    "    handles = {'tCFSv2' : filehandle.variables['tmean_CFSv2'],\n",
    "           'tCMC1' : filehandle.variables['tmean_CMC1'],\n",
    "           'tCMC2' : filehandle.variables['tmean_CMC2'],\n",
    "           'tGFDL' : filehandle.variables['tmean_GFDL'],\n",
    "           'tGFDL_FLOR' : filehandle.variables['tmean_GFDL_FLOR'],\n",
    "           'tNASA' : filehandle.variables['tmean_NASA'],\n",
    "           'tNCAR' : filehandle.variables['tmean_NCAR'],\n",
    "           'tENSMEAN' : filehandle.variables['tmean_ENSMEAN'],\n",
    "           'tCanCM4i' : filehandle.variables['tmean_CanCM4i'],\n",
    "           'tGEM_NEMO' : filehandle.variables['tmean_GEM_NEMO'],\n",
    "           'tGFDL_SPEAR' : filehandle.variables['tmean_GFDL_SPEAR'],\n",
    "           'tNCAR_CESM1' : filehandle.variables['tmean_NCAR_CESM1'],\n",
    "           'lat': filehandle.variables['lat'],\n",
    "           'lon': filehandle.variables['lon'],\n",
    "           'time': filehandle.variables['time']}\n",
    "    \n",
    "    def get_models(self, handles):\n",
    "        keys = handles.keys()\n",
    "        models = []\n",
    "        for key in keys:\n",
    "            models.append(key)\n",
    "        models.remove('lat')\n",
    "        models.remove('lon')\n",
    "        models.remove('time')\n",
    "        return models\n",
    "    \n",
    "    def get_lat(self, handles, lat_target):\n",
    "        lat = handles['lat'][:]\n",
    "        lat_index =   (np.abs(lat-lat_target)).argmin() \n",
    "        if(lat[lat_index]>lat_target):\n",
    "            if(lat_index!=0):\n",
    "                lat_index = lat_index - 1\n",
    "        if(lat[lat_index]<lat_target):\n",
    "            if(lat_index!=len(lat)):\n",
    "                lat_index =lat_index +1\n",
    "        return lat_index\n",
    "    \n",
    "    def get_lon(self, handles, lon_target):\n",
    "        lon = handles['lon'][:]\n",
    "        lon_index =   (np.abs(lon-lon_target)).argmin()\n",
    "        if(lon[lon_index]>lon_target):\n",
    "            if(lon_index!=0):\n",
    "                lon_index = lon_index - 1\n",
    "        if(lon[lon_index]<lon_target):\n",
    "            if(lon_index!=len(lon)):\n",
    "                lon_index = lon_index + 1\n",
    "        return lon_index\n",
    "\n",
    "    def dates(self):\n",
    "        begin_date = datetime.date(1982, 1, 1)\n",
    "        end_date = datetime.date(2023, 12, 31)\n",
    "        dates = []\n",
    "        while begin_date <= end_date:\n",
    "            dates.append(begin_date)\n",
    "            begin_date += relativedelta(months = 1)\n",
    "        return dates\n",
    "    \n",
    "    def get_data(self, models, time_index, lat_index, lon_index, l):\n",
    "        model_dic = {}\n",
    "        for model in models:\n",
    "            data = tempC_NETCDF4.handles[model][:, time_index, lat_index,\n",
    "                                                 lon_index]\n",
    "            monthly_c = []\n",
    "            for count in range(len(data[l])):\n",
    "                deg_c = ((data[0][count] - 273.15))\n",
    "                deg_c = deg_c.round(2)\n",
    "                monthly_c.append(deg_c)\n",
    "            model_dic[model] = monthly_c\n",
    "        return model_dic"
   ]
  },
  {
   "cell_type": "code",
   "execution_count": 22,
   "id": "97c17707-dc30-4784-bf0a-b9dd0e866942",
   "metadata": {},
   "outputs": [],
   "source": [
    "tempC = tempC_NETCDF4()\n",
    "models = tempC.get_models(tempC.handles)\n",
    "lat_index = tempC.get_lat(tempC.handles, tempC.lat_target)\n",
    "lon_index = tempC.get_lon(tempC.handles, tempC.lon_target)\n",
    "dates = tempC.dates()\n",
    "df0 = pd.DataFrame(data = tempC.get_data(\n",
    "    models, tempC.time_index, lat_index, lon_index, 0), index = dates)\n",
    "df1 = pd.DataFrame(data = tempC.get_data(\n",
    "    models, tempC.time_index, lat_index, lon_index, 1), index = dates)\n",
    "df2 = pd.DataFrame(data = tempC.get_data(\n",
    "    models, tempC.time_index, lat_index, lon_index, 2), index = dates)\n",
    "df3 = pd.DataFrame(data = tempC.get_data(\n",
    "    models, tempC.time_index, lat_index, lon_index, 3), index = dates)\n",
    "df4 = pd.DataFrame(data = tempC.get_data(\n",
    "    models, tempC.time_index, lat_index, lon_index, 4), index = dates)\n",
    "df5 = pd.DataFrame(data = tempC.get_data(\n",
    "    models, tempC.time_index, lat_index, lon_index, 5), index = dates)\n",
    "df6 = pd.DataFrame(data = tempC.get_data(\n",
    "    models, tempC.time_index, lat_index, lon_index, 6), index = dates)\n",
    "df7 = pd.DataFrame(data = tempC.get_data(\n",
    "    models, tempC.time_index, lat_index, lon_index, 7), index = dates)\n",
    "df8 = pd.DataFrame(data = tempC.get_data(\n",
    "    models, tempC.time_index, lat_index, lon_index, 8), index = dates)"
   ]
  },
  {
   "cell_type": "code",
   "execution_count": 25,
   "id": "f03accb1-f9eb-4e36-af5a-da7f2bb1854b",
   "metadata": {
    "tags": []
   },
   "outputs": [],
   "source": [
    "with pd.ExcelWriter('Monthly_temp_C.xlsx') as writer:\n",
    "    df0.to_excel(writer, sheet_name = 'lead 1')\n",
    "    df1.to_excel(writer, sheet_name = 'lead 2')\n",
    "    df2.to_excel(writer, sheet_name = 'lead 3')\n",
    "    df3.to_excel(writer, sheet_name = 'lead 4')\n",
    "    df4.to_excel(writer, sheet_name = 'lead 5')\n",
    "    df5.to_excel(writer, sheet_name = 'lead 6')\n",
    "    df6.to_excel(writer, sheet_name = 'lead 7')\n",
    "    df7.to_excel(writer, sheet_name = 'lead 8')\n",
    "    df8.to_excel(writer, sheet_name = 'lead 9')"
   ]
  },
  {
   "cell_type": "code",
   "execution_count": null,
   "id": "38da3ab7-a21c-4453-92cd-0a2120a0babb",
   "metadata": {},
   "outputs": [],
   "source": []
  }
 ],
 "metadata": {
  "kernelspec": {
   "display_name": "Python 3 (ipykernel)",
   "language": "python",
   "name": "python3"
  },
  "language_info": {
   "codemirror_mode": {
    "name": "ipython",
    "version": 3
   },
   "file_extension": ".py",
   "mimetype": "text/x-python",
   "name": "python",
   "nbconvert_exporter": "python",
   "pygments_lexer": "ipython3",
   "version": "3.11.5"
  }
 },
 "nbformat": 4,
 "nbformat_minor": 5
}
