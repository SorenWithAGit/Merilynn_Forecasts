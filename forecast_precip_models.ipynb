{
 "cells": [
  {
   "cell_type": "code",
   "execution_count": 26,
   "id": "53384ea8-1f61-4cc2-a476-bda214012f31",
   "metadata": {
    "tags": []
   },
   "outputs": [],
   "source": [
    "from netCDF4 import Dataset\n",
    "import numpy as np\n",
    "import pandas as pd\n",
    "import datetime\n",
    "from dateutil.relativedelta import relativedelta"
   ]
  },
  {
   "cell_type": "code",
   "execution_count": 19,
   "id": "4e3b54cd-691f-469d-97ee-71a06c6f1238",
   "metadata": {
    "tags": []
   },
   "outputs": [],
   "source": [
    "class precip_NETCDF4:\n",
    "    pathname = \"http://thredds.northwestknowledge.net:8080/thredds/dodsC/NWCSC_INTEGRATED_SCENARIOS_ALL_CLIMATE/bcsd-nmme/rawForecasts/nmme_hindcast_ppt.nc\"\n",
    "    lat_target=31.105\n",
    "    lon_target=-97.35\n",
    "    time_num=504\n",
    "    time_index=range(0,time_num,1)\n",
    "    filehandle=Dataset(pathname,'r',format=\"NETCDF4\")\n",
    "    handles = {'pptCFSv2' : filehandle.variables['ppt_CFSv2'],\n",
    "               'pptCMC1' : filehandle.variables['ppt_CMC1'],\n",
    "               'pptCMC2' : filehandle.variables['ppt_CMC2'],\n",
    "               'pptGFDL' : filehandle.variables['ppt_GFDL'],\n",
    "               'pptGFDL_FLOR' : filehandle.variables['ppt_GFDL_FLOR'],\n",
    "               'pptNASA' : filehandle.variables['ppt_NASA'],\n",
    "               'pptNCAR' : filehandle.variables['ppt_NCAR'],\n",
    "               'pptENSMEAN' : filehandle.variables['ppt_ENSMEAN'],\n",
    "               'pptCanCM4i' : filehandle.variables['ppt_CanCM4i'],\n",
    "               'pptGEM_NEMO' : filehandle.variables['ppt_GEM_NEMO'],\n",
    "               'pptGFDL_SPEAR' : filehandle.variables['ppt_GFDL_SPEAR'],\n",
    "               'pptNCAR_CESM1' : filehandle.variables['ppt_NCAR_CESM1'],\n",
    "               'lat': filehandle.variables['lat'],\n",
    "               'lon': filehandle.variables['lon'],\n",
    "               'time': filehandle.variables['time']}\n",
    "    def get_models(self, handles):\n",
    "        keys = handles.keys()\n",
    "        models = []\n",
    "        for key in keys:\n",
    "            models.append(key)\n",
    "        models.remove('lat')\n",
    "        models.remove('lon')\n",
    "        models.remove('time')\n",
    "        return models\n",
    "    \n",
    "    def get_lat(self, handles, lat_target):\n",
    "        lat = handles['lat'][:]\n",
    "        lat_index =   (np.abs(lat-lat_target)).argmin() \n",
    "        if(lat[lat_index]>lat_target):\n",
    "            if(lat_index!=0):\n",
    "                lat_index = lat_index - 1\n",
    "        if(lat[lat_index]<lat_target):\n",
    "            if(lat_index!=len(lat)):\n",
    "                lat_index =lat_index +1\n",
    "        return lat_index\n",
    "    \n",
    "    def get_lon(self, handles, lon_target):\n",
    "        lon = handles['lon'][:]\n",
    "        lon_index =   (np.abs(lon-lon_target)).argmin()\n",
    "        if(lon[lon_index]>lon_target):\n",
    "            if(lon_index!=0):\n",
    "                lon_index = lon_index - 1\n",
    "        if(lon[lon_index]<lon_target):\n",
    "            if(lon_index!=len(lon)):\n",
    "                lon_index = lon_index + 1\n",
    "        return lon_index\n",
    "\n",
    "    def dates(self):\n",
    "        begin_date = datetime.date(1982, 1, 1)\n",
    "        end_date = datetime.date(2023, 12, 31)\n",
    "        dates = []\n",
    "        while begin_date <= end_date:\n",
    "            dates.append(begin_date)\n",
    "            begin_date += relativedelta(months = 1)\n",
    "        return dates\n",
    "    \n",
    "    def get_data(self, models, time_index, lat_index, lon_index, l):\n",
    "        model_dic = {}\n",
    "        for model in models:\n",
    "            data = precip_NETCDF4.handles[model][:, time_index, lat_index,\n",
    "                                                 lon_index]\n",
    "            monthly_ppt = []\n",
    "            for count in range(len(data[l])):\n",
    "                monthly_ppt.append(data[l][count])\n",
    "            model_dic[model] = monthly_ppt\n",
    "        return model_dic"
   ]
  },
  {
   "cell_type": "code",
   "execution_count": 22,
   "id": "677f94b9-0d4d-45be-a81a-0ceac3ac4b68",
   "metadata": {
    "tags": []
   },
   "outputs": [],
   "source": [
    "precip = precip_NETCDF4()\n",
    "models = precip.get_models(precip.handles)\n",
    "lat_index = precip.get_lat(precip.handles, precip.lat_target)\n",
    "lon_index = precip.get_lon(precip.handles, precip.lon_target)\n",
    "dates = precip.dates()\n",
    "df0 = pd.DataFrame(data = precip.get_data(\n",
    "    models, precip.time_index, lat_index, lon_index, 0), index = dates)\n",
    "df1 = pd.DataFrame(data = precip.get_data(\n",
    "    models, precip.time_index, lat_index, lon_index, 1), index = dates)\n",
    "df2 = pd.DataFrame(data = precip.get_data(\n",
    "    models, precip.time_index, lat_index, lon_index, 2), index = dates)\n",
    "df3 = pd.DataFrame(data = precip.get_data(\n",
    "    models, precip.time_index, lat_index, lon_index, 3), index = dates)\n",
    "df4 = pd.DataFrame(data = precip.get_data(\n",
    "    models, precip.time_index, lat_index, lon_index, 4), index = dates)\n",
    "df5 = pd.DataFrame(data = precip.get_data(\n",
    "    models, precip.time_index, lat_index, lon_index, 5), index = dates)\n",
    "df6 = pd.DataFrame(data = precip.get_data(\n",
    "    models, precip.time_index, lat_index, lon_index, 6), index = dates)\n",
    "df7 = pd.DataFrame(data = precip.get_data(\n",
    "    models, precip.time_index, lat_index, lon_index, 7), index = dates)\n",
    "df8 = pd.DataFrame(data = precip.get_data(\n",
    "    models, precip.time_index, lat_index, lon_index, 8), index = dates)"
   ]
  },
  {
   "cell_type": "code",
   "execution_count": 49,
   "id": "126e6500-8346-442b-a131-870b784fcdf3",
   "metadata": {
    "tags": []
   },
   "outputs": [],
   "source": [
    "with pd.ExcelWriter('Monthly_Precip.xlsx') as writer:\n",
    "    df0.to_excel(writer, sheet_name = 'lead 1')\n",
    "    df1.to_excel(writer, sheet_name = 'lead 2')\n",
    "    df2.to_excel(writer, sheet_name = 'lead 3')\n",
    "    df3.to_excel(writer, sheet_name = 'lead 4')\n",
    "    df4.to_excel(writer, sheet_name = 'lead 5')\n",
    "    df5.to_excel(writer, sheet_name = 'lead 6')\n",
    "    df6.to_excel(writer, sheet_name = 'lead 7')\n",
    "    df7.to_excel(writer, sheet_name = 'lead 8')\n",
    "    df8.to_excel(writer, sheet_name = 'lead 9')"
   ]
  },
  {
   "cell_type": "code",
   "execution_count": null,
   "id": "6ceca9ea-1c04-4c80-8437-d41f06a4aa9c",
   "metadata": {},
   "outputs": [],
   "source": []
  }
 ],
 "metadata": {
  "kernelspec": {
   "display_name": "Python 3 (ipykernel)",
   "language": "python",
   "name": "python3"
  },
  "language_info": {
   "codemirror_mode": {
    "name": "ipython",
    "version": 3
   },
   "file_extension": ".py",
   "mimetype": "text/x-python",
   "name": "python",
   "nbconvert_exporter": "python",
   "pygments_lexer": "ipython3",
   "version": "3.11.5"
  }
 },
 "nbformat": 4,
 "nbformat_minor": 5
}
